{
 "cells": [
  {
   "cell_type": "markdown",
   "metadata": {},
   "source": [
    "Build a regression model."
   ]
  },
  {
   "cell_type": "code",
   "execution_count": 27,
   "metadata": {},
   "outputs": [],
   "source": [
    "import pandas as pd\n"
   ]
  },
  {
   "cell_type": "code",
   "execution_count": 87,
   "metadata": {},
   "outputs": [],
   "source": [
    "data = pd.read_csv(\"c:/users/patel/join_data.csv\")"
   ]
  },
  {
   "cell_type": "code",
   "execution_count": 88,
   "metadata": {},
   "outputs": [
    {
     "data": {
      "text/html": [
       "<div>\n",
       "<style scoped>\n",
       "    .dataframe tbody tr th:only-of-type {\n",
       "        vertical-align: middle;\n",
       "    }\n",
       "\n",
       "    .dataframe tbody tr th {\n",
       "        vertical-align: top;\n",
       "    }\n",
       "\n",
       "    .dataframe thead th {\n",
       "        text-align: right;\n",
       "    }\n",
       "</style>\n",
       "<table border=\"1\" class=\"dataframe\">\n",
       "  <thead>\n",
       "    <tr style=\"text-align: right;\">\n",
       "      <th></th>\n",
       "      <th>bike_station</th>\n",
       "      <th>renting</th>\n",
       "      <th>returning</th>\n",
       "      <th>free_bikes</th>\n",
       "      <th>total_bikes</th>\n",
       "      <th>longitude_x</th>\n",
       "      <th>latitude_x</th>\n",
       "      <th>category_x</th>\n",
       "      <th>rating</th>\n",
       "      <th>POI_count</th>\n",
       "      <th>category_y</th>\n",
       "      <th>longitude_y</th>\n",
       "      <th>latitude_y</th>\n",
       "    </tr>\n",
       "  </thead>\n",
       "  <tbody>\n",
       "    <tr>\n",
       "      <th>0</th>\n",
       "      <td>Ravenswood Ave &amp; Lawrence Ave</td>\n",
       "      <td>1</td>\n",
       "      <td>1</td>\n",
       "      <td>3</td>\n",
       "      <td>5</td>\n",
       "      <td>-87.674237</td>\n",
       "      <td>41.969090</td>\n",
       "      <td>bike station</td>\n",
       "      <td>4.325</td>\n",
       "      <td>29</td>\n",
       "      <td>29</td>\n",
       "      <td>-87.675768</td>\n",
       "      <td>41.967429</td>\n",
       "    </tr>\n",
       "    <tr>\n",
       "      <th>1</th>\n",
       "      <td>Lake Park Ave &amp; 56th St</td>\n",
       "      <td>1</td>\n",
       "      <td>1</td>\n",
       "      <td>19</td>\n",
       "      <td>21</td>\n",
       "      <td>-87.587782</td>\n",
       "      <td>41.793242</td>\n",
       "      <td>bike station</td>\n",
       "      <td>3.900</td>\n",
       "      <td>20</td>\n",
       "      <td>20</td>\n",
       "      <td>-87.589782</td>\n",
       "      <td>41.796849</td>\n",
       "    </tr>\n",
       "    <tr>\n",
       "      <th>2</th>\n",
       "      <td>Ada St &amp; Washington Blvd</td>\n",
       "      <td>1</td>\n",
       "      <td>1</td>\n",
       "      <td>13</td>\n",
       "      <td>15</td>\n",
       "      <td>-87.661206</td>\n",
       "      <td>41.882830</td>\n",
       "      <td>bike station</td>\n",
       "      <td>4.075</td>\n",
       "      <td>23</td>\n",
       "      <td>23</td>\n",
       "      <td>-87.657258</td>\n",
       "      <td>41.884466</td>\n",
       "    </tr>\n",
       "    <tr>\n",
       "      <th>3</th>\n",
       "      <td>Ashland Ave &amp; Grace St</td>\n",
       "      <td>1</td>\n",
       "      <td>1</td>\n",
       "      <td>6</td>\n",
       "      <td>8</td>\n",
       "      <td>-87.668700</td>\n",
       "      <td>41.950687</td>\n",
       "      <td>bike station</td>\n",
       "      <td>4.175</td>\n",
       "      <td>24</td>\n",
       "      <td>24</td>\n",
       "      <td>-87.667896</td>\n",
       "      <td>41.948436</td>\n",
       "    </tr>\n",
       "    <tr>\n",
       "      <th>4</th>\n",
       "      <td>Clark St &amp; Wrightwood Ave</td>\n",
       "      <td>1</td>\n",
       "      <td>1</td>\n",
       "      <td>7</td>\n",
       "      <td>9</td>\n",
       "      <td>-87.643118</td>\n",
       "      <td>41.929546</td>\n",
       "      <td>bike station</td>\n",
       "      <td>4.300</td>\n",
       "      <td>25</td>\n",
       "      <td>25</td>\n",
       "      <td>-87.643348</td>\n",
       "      <td>41.930288</td>\n",
       "    </tr>\n",
       "  </tbody>\n",
       "</table>\n",
       "</div>"
      ],
      "text/plain": [
       "                    bike_station  renting   returning  free_bikes  \\\n",
       "0  Ravenswood Ave & Lawrence Ave         1          1           3   \n",
       "1        Lake Park Ave & 56th St         1          1          19   \n",
       "2       Ada St & Washington Blvd         1          1          13   \n",
       "3         Ashland Ave & Grace St         1          1           6   \n",
       "4      Clark St & Wrightwood Ave         1          1           7   \n",
       "\n",
       "   total_bikes  longitude_x  latitude_x    category_x  rating  POI_count  \\\n",
       "0            5   -87.674237   41.969090  bike station   4.325         29   \n",
       "1           21   -87.587782   41.793242  bike station   3.900         20   \n",
       "2           15   -87.661206   41.882830  bike station   4.075         23   \n",
       "3            8   -87.668700   41.950687  bike station   4.175         24   \n",
       "4            9   -87.643118   41.929546  bike station   4.300         25   \n",
       "\n",
       "   category_y  longitude_y  latitude_y  \n",
       "0          29   -87.675768   41.967429  \n",
       "1          20   -87.589782   41.796849  \n",
       "2          23   -87.657258   41.884466  \n",
       "3          24   -87.667896   41.948436  \n",
       "4          25   -87.643348   41.930288  "
      ]
     },
     "execution_count": 88,
     "metadata": {},
     "output_type": "execute_result"
    }
   ],
   "source": [
    "data.head()"
   ]
  },
  {
   "cell_type": "code",
   "execution_count": 89,
   "metadata": {},
   "outputs": [],
   "source": [
    "data = data.dropna()"
   ]
  },
  {
   "cell_type": "markdown",
   "metadata": {},
   "source": [
    "Build a regression model using Python’s `statsmodels` module that demonstrates a relationship between the number of bikes in a particular location and the characteristics of the POIs in that location."
   ]
  },
  {
   "cell_type": "code",
   "execution_count": 90,
   "metadata": {},
   "outputs": [
    {
     "name": "stdout",
     "output_type": "stream",
     "text": [
      "<class 'pandas.core.frame.DataFrame'>\n",
      "Int64Index: 884 entries, 0 to 971\n",
      "Data columns (total 13 columns):\n",
      " #   Column        Non-Null Count  Dtype  \n",
      "---  ------        --------------  -----  \n",
      " 0   bike_station  884 non-null    object \n",
      " 1   renting       884 non-null    int64  \n",
      " 2   returning     884 non-null    int64  \n",
      " 3   free_bikes    884 non-null    int64  \n",
      " 4   total_bikes   884 non-null    int64  \n",
      " 5   longitude_x   884 non-null    float64\n",
      " 6   latitude_x    884 non-null    float64\n",
      " 7   category_x    884 non-null    object \n",
      " 8   rating        884 non-null    float64\n",
      " 9   POI_count     884 non-null    int64  \n",
      " 10  category_y    884 non-null    int64  \n",
      " 11  longitude_y   884 non-null    float64\n",
      " 12  latitude_y    884 non-null    float64\n",
      "dtypes: float64(5), int64(6), object(2)\n",
      "memory usage: 96.7+ KB\n"
     ]
    }
   ],
   "source": [
    "data.info()"
   ]
  },
  {
   "cell_type": "code",
   "execution_count": 78,
   "metadata": {},
   "outputs": [],
   "source": [
    "import statsmodels.api as sm"
   ]
  },
  {
   "cell_type": "code",
   "execution_count": 91,
   "metadata": {},
   "outputs": [
    {
     "data": {
      "text/html": [
       "<div>\n",
       "<style scoped>\n",
       "    .dataframe tbody tr th:only-of-type {\n",
       "        vertical-align: middle;\n",
       "    }\n",
       "\n",
       "    .dataframe tbody tr th {\n",
       "        vertical-align: top;\n",
       "    }\n",
       "\n",
       "    .dataframe thead th {\n",
       "        text-align: right;\n",
       "    }\n",
       "</style>\n",
       "<table border=\"1\" class=\"dataframe\">\n",
       "  <thead>\n",
       "    <tr style=\"text-align: right;\">\n",
       "      <th></th>\n",
       "      <th>rating</th>\n",
       "      <th>POI_count</th>\n",
       "    </tr>\n",
       "  </thead>\n",
       "  <tbody>\n",
       "    <tr>\n",
       "      <th>count</th>\n",
       "      <td>884.000000</td>\n",
       "      <td>884.000000</td>\n",
       "    </tr>\n",
       "    <tr>\n",
       "      <th>mean</th>\n",
       "      <td>3.233362</td>\n",
       "      <td>6.254525</td>\n",
       "    </tr>\n",
       "    <tr>\n",
       "      <th>std</th>\n",
       "      <td>1.391453</td>\n",
       "      <td>5.956594</td>\n",
       "    </tr>\n",
       "    <tr>\n",
       "      <th>min</th>\n",
       "      <td>0.000000</td>\n",
       "      <td>1.000000</td>\n",
       "    </tr>\n",
       "    <tr>\n",
       "      <th>25%</th>\n",
       "      <td>2.666667</td>\n",
       "      <td>2.000000</td>\n",
       "    </tr>\n",
       "    <tr>\n",
       "      <th>50%</th>\n",
       "      <td>3.833333</td>\n",
       "      <td>4.000000</td>\n",
       "    </tr>\n",
       "    <tr>\n",
       "      <th>75%</th>\n",
       "      <td>4.125000</td>\n",
       "      <td>9.000000</td>\n",
       "    </tr>\n",
       "    <tr>\n",
       "      <th>max</th>\n",
       "      <td>5.000000</td>\n",
       "      <td>29.000000</td>\n",
       "    </tr>\n",
       "  </tbody>\n",
       "</table>\n",
       "</div>"
      ],
      "text/plain": [
       "           rating   POI_count\n",
       "count  884.000000  884.000000\n",
       "mean     3.233362    6.254525\n",
       "std      1.391453    5.956594\n",
       "min      0.000000    1.000000\n",
       "25%      2.666667    2.000000\n",
       "50%      3.833333    4.000000\n",
       "75%      4.125000    9.000000\n",
       "max      5.000000   29.000000"
      ]
     },
     "execution_count": 91,
     "metadata": {},
     "output_type": "execute_result"
    }
   ],
   "source": [
    "X = data[['rating','POI_count']]\n",
    "X.describe()"
   ]
  },
  {
   "cell_type": "code",
   "execution_count": 92,
   "metadata": {},
   "outputs": [
    {
     "data": {
      "text/plain": [
       "count    884.000000\n",
       "mean       6.404977\n",
       "std        4.312144\n",
       "min        0.000000\n",
       "25%        3.000000\n",
       "50%        6.000000\n",
       "75%        9.000000\n",
       "max       29.000000\n",
       "Name: total_bikes, dtype: float64"
      ]
     },
     "execution_count": 92,
     "metadata": {},
     "output_type": "execute_result"
    }
   ],
   "source": [
    "Y = data['total_bikes']\n",
    "Y.describe()"
   ]
  },
  {
   "cell_type": "code",
   "execution_count": 93,
   "metadata": {},
   "outputs": [],
   "source": [
    "X = sm.add_constant(X) # adding a constant\n",
    "lin_reg = sm.OLS(Y,X)"
   ]
  },
  {
   "cell_type": "code",
   "execution_count": 94,
   "metadata": {},
   "outputs": [
    {
     "name": "stdout",
     "output_type": "stream",
     "text": [
      "                            OLS Regression Results                            \n",
      "==============================================================================\n",
      "Dep. Variable:            total_bikes   R-squared:                       0.106\n",
      "Model:                            OLS   Adj. R-squared:                  0.104\n",
      "Method:                 Least Squares   F-statistic:                     52.16\n",
      "Date:                Sun, 23 Apr 2023   Prob (F-statistic):           3.91e-22\n",
      "Time:                        15:59:58   Log-Likelihood:                -2496.3\n",
      "No. Observations:                 884   AIC:                             4999.\n",
      "Df Residuals:                     881   BIC:                             5013.\n",
      "Df Model:                           2                                         \n",
      "Covariance Type:            nonrobust                                         \n",
      "==============================================================================\n",
      "                 coef    std err          t      P>|t|      [0.025      0.975]\n",
      "------------------------------------------------------------------------------\n",
      "const          3.2112      0.358      8.982      0.000       2.509       3.913\n",
      "rating         0.7317      0.101      7.272      0.000       0.534       0.929\n",
      "POI_count      0.1324      0.024      5.631      0.000       0.086       0.178\n",
      "==============================================================================\n",
      "Omnibus:                      212.181   Durbin-Watson:                   1.678\n",
      "Prob(Omnibus):                  0.000   Jarque-Bera (JB):              500.374\n",
      "Skew:                           1.278   Prob(JB):                    2.21e-109\n",
      "Kurtosis:                       5.656   Cond. No.                         24.2\n",
      "==============================================================================\n",
      "\n",
      "Notes:\n",
      "[1] Standard Errors assume that the covariance matrix of the errors is correctly specified.\n"
     ]
    }
   ],
   "source": [
    "model = lin_reg.fit()\n",
    "print_model = model.summary()\n",
    "print(print_model)"
   ]
  },
  {
   "cell_type": "markdown",
   "metadata": {},
   "source": [
    "Provide model output and an interpretation of the results. "
   ]
  },
  {
   "cell_type": "markdown",
   "metadata": {},
   "source": [
    "1.R-squared:In this output, we can see that the value is 0.106. This means that the model is capable of explaining 10.6% of the patterns in the data.\n",
    "\n",
    "2.P>|t| (or the p-value): This regression output shows a p-value of 0, which means that the probability of the relationship between the average number of bikes and ratings and POI counts of POI being solely due to natural variation is 0. In other words, POI counts and rating does impact the number of bikes.\n",
    "    \n",
    "3.coef :we can see that the coef of rating has a value of 0.7317 and 0.1324 . This means that increase in POI count and rating has positive impact on number of bikes.    \n",
    "    \n"
   ]
  },
  {
   "cell_type": "markdown",
   "metadata": {},
   "source": [
    "# Stretch"
   ]
  },
  {
   "cell_type": "markdown",
   "metadata": {},
   "source": [
    "How can you turn the regression model into a classification model?"
   ]
  },
  {
   "cell_type": "code",
   "execution_count": null,
   "metadata": {},
   "outputs": [],
   "source": []
  }
 ],
 "metadata": {
  "kernelspec": {
   "display_name": "Python 3 (ipykernel)",
   "language": "python",
   "name": "python3"
  },
  "language_info": {
   "codemirror_mode": {
    "name": "ipython",
    "version": 3
   },
   "file_extension": ".py",
   "mimetype": "text/x-python",
   "name": "python",
   "nbconvert_exporter": "python",
   "pygments_lexer": "ipython3",
   "version": "3.10.9"
  }
 },
 "nbformat": 4,
 "nbformat_minor": 4
}
