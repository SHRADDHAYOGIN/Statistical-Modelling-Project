{
 "cells": [
  {
   "cell_type": "markdown",
   "metadata": {},
   "source": [
    "Build a regression model."
   ]
  },
  {
   "cell_type": "code",
   "execution_count": 1,
   "metadata": {},
   "outputs": [],
   "source": [
    "import pandas as pd\n"
   ]
  },
  {
   "cell_type": "code",
   "execution_count": 2,
   "metadata": {},
   "outputs": [],
   "source": [
    "data = pd.read_csv(\"c:/users/patel/join_data.csv\")"
   ]
  },
  {
   "cell_type": "code",
   "execution_count": 3,
   "metadata": {},
   "outputs": [
    {
     "data": {
      "text/html": [
       "<div>\n",
       "<style scoped>\n",
       "    .dataframe tbody tr th:only-of-type {\n",
       "        vertical-align: middle;\n",
       "    }\n",
       "\n",
       "    .dataframe tbody tr th {\n",
       "        vertical-align: top;\n",
       "    }\n",
       "\n",
       "    .dataframe thead th {\n",
       "        text-align: right;\n",
       "    }\n",
       "</style>\n",
       "<table border=\"1\" class=\"dataframe\">\n",
       "  <thead>\n",
       "    <tr style=\"text-align: right;\">\n",
       "      <th></th>\n",
       "      <th>index</th>\n",
       "      <th>bike_station</th>\n",
       "      <th>category_x</th>\n",
       "      <th>renting</th>\n",
       "      <th>returning</th>\n",
       "      <th>free_bikes</th>\n",
       "      <th>total_bikes</th>\n",
       "      <th>longitude_x</th>\n",
       "      <th>latitude_x</th>\n",
       "      <th>category_y</th>\n",
       "      <th>rating</th>\n",
       "      <th>name</th>\n",
       "    </tr>\n",
       "  </thead>\n",
       "  <tbody>\n",
       "    <tr>\n",
       "      <th>0</th>\n",
       "      <td>0</td>\n",
       "      <td>2112 W Peterson Ave</td>\n",
       "      <td>bike station</td>\n",
       "      <td>1.0</td>\n",
       "      <td>1.0</td>\n",
       "      <td>1.0</td>\n",
       "      <td>3.0</td>\n",
       "      <td>-87.683593</td>\n",
       "      <td>41.991178</td>\n",
       "      <td>20</td>\n",
       "      <td>3.925000</td>\n",
       "      <td>20</td>\n",
       "    </tr>\n",
       "    <tr>\n",
       "      <th>1</th>\n",
       "      <td>1</td>\n",
       "      <td>63rd St Beach</td>\n",
       "      <td>bike station</td>\n",
       "      <td>1.0</td>\n",
       "      <td>1.0</td>\n",
       "      <td>5.0</td>\n",
       "      <td>7.0</td>\n",
       "      <td>-87.576324</td>\n",
       "      <td>41.780911</td>\n",
       "      <td>21</td>\n",
       "      <td>2.105263</td>\n",
       "      <td>21</td>\n",
       "    </tr>\n",
       "    <tr>\n",
       "      <th>2</th>\n",
       "      <td>2</td>\n",
       "      <td>900 W Harrison St</td>\n",
       "      <td>bike station</td>\n",
       "      <td>1.0</td>\n",
       "      <td>1.0</td>\n",
       "      <td>11.0</td>\n",
       "      <td>13.0</td>\n",
       "      <td>-87.649807</td>\n",
       "      <td>41.874754</td>\n",
       "      <td>27</td>\n",
       "      <td>4.125000</td>\n",
       "      <td>27</td>\n",
       "    </tr>\n",
       "    <tr>\n",
       "      <th>3</th>\n",
       "      <td>3</td>\n",
       "      <td>Aberdeen St &amp; Jackson Blvd</td>\n",
       "      <td>bike station</td>\n",
       "      <td>1.0</td>\n",
       "      <td>1.0</td>\n",
       "      <td>4.0</td>\n",
       "      <td>6.0</td>\n",
       "      <td>-87.654787</td>\n",
       "      <td>41.877726</td>\n",
       "      <td>28</td>\n",
       "      <td>4.275000</td>\n",
       "      <td>28</td>\n",
       "    </tr>\n",
       "    <tr>\n",
       "      <th>4</th>\n",
       "      <td>4</td>\n",
       "      <td>Aberdeen St &amp; Monroe St</td>\n",
       "      <td>bike station</td>\n",
       "      <td>1.0</td>\n",
       "      <td>1.0</td>\n",
       "      <td>5.0</td>\n",
       "      <td>7.0</td>\n",
       "      <td>-87.655519</td>\n",
       "      <td>41.880419</td>\n",
       "      <td>27</td>\n",
       "      <td>4.300000</td>\n",
       "      <td>27</td>\n",
       "    </tr>\n",
       "  </tbody>\n",
       "</table>\n",
       "</div>"
      ],
      "text/plain": [
       "   index                bike_station    category_x  renting   returning  \\\n",
       "0      0         2112 W Peterson Ave  bike station       1.0        1.0   \n",
       "1      1               63rd St Beach  bike station       1.0        1.0   \n",
       "2      2           900 W Harrison St  bike station       1.0        1.0   \n",
       "3      3  Aberdeen St & Jackson Blvd  bike station       1.0        1.0   \n",
       "4      4     Aberdeen St & Monroe St  bike station       1.0        1.0   \n",
       "\n",
       "   free_bikes  total_bikes  longitude_x  latitude_x  category_y    rating  \\\n",
       "0         1.0          3.0   -87.683593   41.991178          20  3.925000   \n",
       "1         5.0          7.0   -87.576324   41.780911          21  2.105263   \n",
       "2        11.0         13.0   -87.649807   41.874754          27  4.125000   \n",
       "3         4.0          6.0   -87.654787   41.877726          28  4.275000   \n",
       "4         5.0          7.0   -87.655519   41.880419          27  4.300000   \n",
       "\n",
       "   name  \n",
       "0    20  \n",
       "1    21  \n",
       "2    27  \n",
       "3    28  \n",
       "4    27  "
      ]
     },
     "execution_count": 3,
     "metadata": {},
     "output_type": "execute_result"
    }
   ],
   "source": [
    "data.head()"
   ]
  },
  {
   "cell_type": "markdown",
   "metadata": {},
   "source": [
    "Build a regression model using Python’s `statsmodels` module that demonstrates a relationship between the number of bikes in a particular location and the characteristics of the POIs in that location."
   ]
  },
  {
   "cell_type": "code",
   "execution_count": 5,
   "metadata": {},
   "outputs": [
    {
     "name": "stdout",
     "output_type": "stream",
     "text": [
      "<class 'pandas.core.frame.DataFrame'>\n",
      "RangeIndex: 1416 entries, 0 to 1415\n",
      "Data columns (total 12 columns):\n",
      " #   Column        Non-Null Count  Dtype  \n",
      "---  ------        --------------  -----  \n",
      " 0   index         1416 non-null   int64  \n",
      " 1   bike_station  1416 non-null   object \n",
      " 2   category_x    1416 non-null   object \n",
      " 3   renting       1416 non-null   float64\n",
      " 4   returning     1416 non-null   float64\n",
      " 5   free_bikes    1416 non-null   float64\n",
      " 6   total_bikes   1416 non-null   float64\n",
      " 7   longitude_x   1416 non-null   float64\n",
      " 8   latitude_x    1416 non-null   float64\n",
      " 9   category_y    1416 non-null   int64  \n",
      " 10  rating        1416 non-null   float64\n",
      " 11  name          1416 non-null   int64  \n",
      "dtypes: float64(7), int64(3), object(2)\n",
      "memory usage: 132.9+ KB\n"
     ]
    }
   ],
   "source": [
    "data.info()"
   ]
  },
  {
   "cell_type": "code",
   "execution_count": 6,
   "metadata": {},
   "outputs": [],
   "source": [
    "import statsmodels.api as sm"
   ]
  },
  {
   "cell_type": "code",
   "execution_count": 23,
   "metadata": {},
   "outputs": [
    {
     "data": {
      "text/html": [
       "<div>\n",
       "<style scoped>\n",
       "    .dataframe tbody tr th:only-of-type {\n",
       "        vertical-align: middle;\n",
       "    }\n",
       "\n",
       "    .dataframe tbody tr th {\n",
       "        vertical-align: top;\n",
       "    }\n",
       "\n",
       "    .dataframe thead th {\n",
       "        text-align: right;\n",
       "    }\n",
       "</style>\n",
       "<table border=\"1\" class=\"dataframe\">\n",
       "  <thead>\n",
       "    <tr style=\"text-align: right;\">\n",
       "      <th></th>\n",
       "      <th>rating</th>\n",
       "      <th>name</th>\n",
       "    </tr>\n",
       "  </thead>\n",
       "  <tbody>\n",
       "    <tr>\n",
       "      <th>count</th>\n",
       "      <td>1416.000000</td>\n",
       "      <td>1416.000000</td>\n",
       "    </tr>\n",
       "    <tr>\n",
       "      <th>mean</th>\n",
       "      <td>3.574559</td>\n",
       "      <td>24.886299</td>\n",
       "    </tr>\n",
       "    <tr>\n",
       "      <th>std</th>\n",
       "      <td>0.767962</td>\n",
       "      <td>3.461111</td>\n",
       "    </tr>\n",
       "    <tr>\n",
       "      <th>min</th>\n",
       "      <td>0.916667</td>\n",
       "      <td>1.000000</td>\n",
       "    </tr>\n",
       "    <tr>\n",
       "      <th>25%</th>\n",
       "      <td>3.150000</td>\n",
       "      <td>24.000000</td>\n",
       "    </tr>\n",
       "    <tr>\n",
       "      <th>50%</th>\n",
       "      <td>3.875000</td>\n",
       "      <td>26.000000</td>\n",
       "    </tr>\n",
       "    <tr>\n",
       "      <th>75%</th>\n",
       "      <td>4.175000</td>\n",
       "      <td>27.000000</td>\n",
       "    </tr>\n",
       "    <tr>\n",
       "      <th>max</th>\n",
       "      <td>5.000000</td>\n",
       "      <td>30.000000</td>\n",
       "    </tr>\n",
       "  </tbody>\n",
       "</table>\n",
       "</div>"
      ],
      "text/plain": [
       "            rating         name\n",
       "count  1416.000000  1416.000000\n",
       "mean      3.574559    24.886299\n",
       "std       0.767962     3.461111\n",
       "min       0.916667     1.000000\n",
       "25%       3.150000    24.000000\n",
       "50%       3.875000    26.000000\n",
       "75%       4.175000    27.000000\n",
       "max       5.000000    30.000000"
      ]
     },
     "execution_count": 23,
     "metadata": {},
     "output_type": "execute_result"
    }
   ],
   "source": [
    "X = data[['rating','name']]\n",
    "X.describe()"
   ]
  },
  {
   "cell_type": "code",
   "execution_count": 24,
   "metadata": {},
   "outputs": [
    {
     "data": {
      "text/plain": [
       "count    1416.000000\n",
       "mean        5.329096\n",
       "std         4.162990\n",
       "min         0.000000\n",
       "25%         2.000000\n",
       "50%         4.000000\n",
       "75%         8.000000\n",
       "max        29.000000\n",
       "Name: total_bikes, dtype: float64"
      ]
     },
     "execution_count": 24,
     "metadata": {},
     "output_type": "execute_result"
    }
   ],
   "source": [
    "Y = data['total_bikes']\n",
    "Y.describe()"
   ]
  },
  {
   "cell_type": "code",
   "execution_count": 25,
   "metadata": {},
   "outputs": [],
   "source": [
    "X = sm.add_constant(X) # adding a constant\n",
    "lin_reg = sm.OLS(Y,X)"
   ]
  },
  {
   "cell_type": "code",
   "execution_count": 26,
   "metadata": {},
   "outputs": [
    {
     "name": "stdout",
     "output_type": "stream",
     "text": [
      "                            OLS Regression Results                            \n",
      "==============================================================================\n",
      "Dep. Variable:            total_bikes   R-squared:                       0.070\n",
      "Model:                            OLS   Adj. R-squared:                  0.069\n",
      "Method:                 Least Squares   F-statistic:                     53.47\n",
      "Date:                Mon, 24 Apr 2023   Prob (F-statistic):           4.13e-23\n",
      "Time:                        11:15:39   Log-Likelihood:                -3976.6\n",
      "No. Observations:                1416   AIC:                             7959.\n",
      "Df Residuals:                    1413   BIC:                             7975.\n",
      "Df Model:                           2                                         \n",
      "Covariance Type:            nonrobust                                         \n",
      "==============================================================================\n",
      "                 coef    std err          t      P>|t|      [0.025      0.975]\n",
      "------------------------------------------------------------------------------\n",
      "const          2.0789      0.818      2.541      0.011       0.474       3.684\n",
      "rating         1.5166      0.147     10.316      0.000       1.228       1.805\n",
      "name          -0.0872      0.033     -2.674      0.008      -0.151      -0.023\n",
      "==============================================================================\n",
      "Omnibus:                      392.617   Durbin-Watson:                   1.329\n",
      "Prob(Omnibus):                  0.000   Jarque-Bera (JB):              972.869\n",
      "Skew:                           1.486   Prob(JB):                    5.55e-212\n",
      "Kurtosis:                       5.768   Cond. No.                         195.\n",
      "==============================================================================\n",
      "\n",
      "Notes:\n",
      "[1] Standard Errors assume that the covariance matrix of the errors is correctly specified.\n"
     ]
    }
   ],
   "source": [
    "model = lin_reg.fit()\n",
    "print_model = model.summary()\n",
    "print(print_model)"
   ]
  },
  {
   "cell_type": "markdown",
   "metadata": {},
   "source": [
    "Provide model output and an interpretation of the results. "
   ]
  },
  {
   "cell_type": "markdown",
   "metadata": {},
   "source": [
    "1.R-squared:In this output, we can see that the value is 0.106. This means that the model is capable of explaining 7% of the patterns in the data.\n",
    "\n",
    "2.P>|t| (or the p-value): This regression output shows a p-value of 0, which means that the probability of the relationship between the average number of bikes and ratings and POI counts of POI being solely due to natural variation is 0. In other words, POI counts and rating does impact the number of bikes.\n",
    "    \n",
    "3.coef :we can see that the coef of rating has a value of 1.5166 and -0.872 . This means that increase in rating has positive impact on number of bikes and increase in number of POI has negative impact on number of counts.\n",
    "\n",
    "4.We can conclude that quality affects positively in comerision of quantity.\n",
    "    \n"
   ]
  },
  {
   "cell_type": "markdown",
   "metadata": {},
   "source": [
    "# Stretch"
   ]
  },
  {
   "cell_type": "markdown",
   "metadata": {},
   "source": [
    "How can you turn the regression model into a classification model?"
   ]
  },
  {
   "cell_type": "code",
   "execution_count": null,
   "metadata": {},
   "outputs": [],
   "source": []
  }
 ],
 "metadata": {
  "kernelspec": {
   "display_name": "Python 3 (ipykernel)",
   "language": "python",
   "name": "python3"
  },
  "language_info": {
   "codemirror_mode": {
    "name": "ipython",
    "version": 3
   },
   "file_extension": ".py",
   "mimetype": "text/x-python",
   "name": "python",
   "nbconvert_exporter": "python",
   "pygments_lexer": "ipython3",
   "version": "3.10.9"
  }
 },
 "nbformat": 4,
 "nbformat_minor": 4
}
